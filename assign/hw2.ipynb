{
 "cells": [
  {
   "cell_type": "markdown",
   "id": "2e6f3f03",
   "metadata": {},
   "source": [
    "[1번] 102. Analyze a Sentence  Write a program that displays the first and last words of a sentence input by the user. Assume that the only punctuation is a period at the end of the sentence."
   ]
  },
  {
   "cell_type": "code",
   "execution_count": 2,
   "id": "bcf8e14b",
   "metadata": {},
   "outputs": [
    {
     "name": "stdout",
     "output_type": "stream",
     "text": [
      "First word: Reach\n",
      "Last word: stars\n"
     ]
    }
   ],
   "source": [
    "sentence = input(\"Enter a sentence: \").split()\n",
    "\n",
    "print(f\"First word: {sentence[0]}\")\n",
    "print(f\"Last word: {sentence[-1][0:-1]}\")\n"
   ]
  },
  {
   "cell_type": "markdown",
   "id": "8668df05",
   "metadata": {},
   "source": [
    "[2번] 104. Name  Write a program that requests a three-part name and then displays the middle name."
   ]
  },
  {
   "cell_type": "code",
   "execution_count": 6,
   "id": "c619f760",
   "metadata": {},
   "outputs": [
    {
     "name": "stdout",
     "output_type": "stream",
     "text": [
      "Middle name: Andrew\n"
     ]
    }
   ],
   "source": [
    "part_timer = input(\"Enter a 3-part name: \").split()\n",
    "\n",
    "print(f\"Middle name: {part_timer[1]}\")"
   ]
  },
  {
   "cell_type": "markdown",
   "id": "377aeef9",
   "metadata": {},
   "source": [
    "[3번] 66. Median  The median of an ordered set of measurements is a number separating the lower half from the upper half. If the number of measurements is odd, the median is the middle measurement. If the number of measurements is even, the median is the average of the two middle measurements. Write a program that requests a number n and a set of n measurements (not necessarily ordered) as input and then displays the median of the measurements."
   ]
  },
  {
   "cell_type": "code",
   "execution_count": null,
   "id": "4681394c",
   "metadata": {},
   "outputs": [],
   "source": [
    "n = int(input(\"How many number do you want to enter? \"))\n",
    "nums = []\n",
    "\n",
    "for _ in range(n):\n",
    "    pass"
   ]
  }
 ],
 "metadata": {
  "kernelspec": {
   "display_name": "Python 3",
   "language": "python",
   "name": "python3"
  },
  "language_info": {
   "codemirror_mode": {
    "name": "ipython",
    "version": 3
   },
   "file_extension": ".py",
   "mimetype": "text/x-python",
   "name": "python",
   "nbconvert_exporter": "python",
   "pygments_lexer": "ipython3",
   "version": "3.13.3"
  }
 },
 "nbformat": 4,
 "nbformat_minor": 5
}
