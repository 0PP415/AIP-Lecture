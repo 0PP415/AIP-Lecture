{
 "cells": [
  {
   "cell_type": "markdown",
   "id": "a2d3b15e",
   "metadata": {},
   "source": [
    "[1번] Word Replacement  Write a program that requests a sentence, a word in the sentence, and another word and then displays the sentence with the first word replaced by the second. Do not use the format method."
   ]
  },
  {
   "cell_type": "code",
   "execution_count": 5,
   "id": "f0fc3422",
   "metadata": {},
   "outputs": [
    {
     "name": "stdout",
     "output_type": "stream",
     "text": [
      "What you don't owe won't hurt you\n"
     ]
    }
   ],
   "source": [
    "sentence = input(\"Enter a sentence: \")\n",
    "first    = input(\"Enter word to replace: \")\n",
    "second   = input(\"Enter replacement word: \")\n",
    "\n",
    "print(sentence.replace(first, second))"
   ]
  },
  {
   "cell_type": "markdown",
   "id": "05a2931c",
   "metadata": {},
   "source": [
    "[2번] Calculate the present value of an investment after the user enters the future value, interest rate, and number of years."
   ]
  },
  {
   "cell_type": "code",
   "execution_count": 7,
   "id": "f1ac64ae",
   "metadata": {},
   "outputs": [
    {
     "name": "stdout",
     "output_type": "stream",
     "text": [
      "Present value: $7903.15\n"
     ]
    }
   ],
   "source": [
    "dollars_f = float(input(\"Enter future value: \"))\n",
    "rate_r    = float(input(\"Enter interest rate (as %): \"))\n",
    "year_n    = int(input(\"Enter number of years: \"))\n",
    "\n",
    "present_value = dollars_f / (1 + rate_r/100)**year_n\n",
    "\n",
    "print(f\"Present value: ${present_value:.2f}\")"
   ]
  },
  {
   "cell_type": "markdown",
   "id": "b596480f",
   "metadata": {},
   "source": [
    "[3번] Write a program to input a coefficient of restitution and an initial height in meters, and report how many times a ball bounces when dropped from its initial height before it rises to a height of less than 10 centimeters.\n"
   ]
  },
  {
   "cell_type": "code",
   "execution_count": 25,
   "id": "525cffcd",
   "metadata": {},
   "outputs": [
    {
     "name": "stdout",
     "output_type": "stream",
     "text": [
      "Number of bounces: 13\n",
      "Meters traveled: 44.82 \n"
     ]
    }
   ],
   "source": [
    "coef       = float(input(\"Enter coefficient of restitution: \"))\n",
    "init_meter = float(input(\"Enter initial height in meters: \"))\n",
    "\n",
    "bounced  = 0\n",
    "traveled = init_meter\n",
    "\n",
    "while (init_meter:= init_meter * coef) >= 0.1:\n",
    "    bounced += 1\n",
    "    traveled += init_meter * 2\n",
    "\n",
    "print(f\"Number of bounces: {bounced+1}\")\n",
    "print(f\"Meters traveled: {traveled:.2f} \")"
   ]
  },
  {
   "cell_type": "markdown",
   "id": "cbc174c5",
   "metadata": {},
   "source": [
    "[4번] Write a program to calculate the total sum of the digits in the integers from 1 to a million "
   ]
  },
  {
   "cell_type": "code",
   "execution_count": 32,
   "id": "a28773e5",
   "metadata": {},
   "outputs": [
    {
     "name": "stdout",
     "output_type": "stream",
     "text": [
      "27000001\n"
     ]
    }
   ],
   "source": [
    "total = 0\n",
    "\n",
    "for i in range(1, 1000001):\n",
    "    while i != 0:\n",
    "        total += i%10\n",
    "        i //= 10\n",
    "\n",
    "print(total)"
   ]
  }
 ],
 "metadata": {
  "kernelspec": {
   "display_name": "Python 3",
   "language": "python",
   "name": "python3"
  },
  "language_info": {
   "codemirror_mode": {
    "name": "ipython",
    "version": 3
   },
   "file_extension": ".py",
   "mimetype": "text/x-python",
   "name": "python",
   "nbconvert_exporter": "python",
   "pygments_lexer": "ipython3",
   "version": "3.13.3"
  }
 },
 "nbformat": 4,
 "nbformat_minor": 5
}
